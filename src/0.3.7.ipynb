{
 "cells": [
  {
   "cell_type": "code",
   "execution_count": 1,
   "metadata": {},
   "outputs": [],
   "source": [
    "import pandas as pd\n",
    "import numpy as np\n",
    "import geopandas as gpd\n",
    "import transbigdata as tbd\n",
    "from shapely.geometry import Polygon,Point\n",
    "import math \n"
   ]
  },
  {
   "cell_type": "code",
   "execution_count": 2,
   "metadata": {},
   "outputs": [],
   "source": [
    "sz = gpd.read_file('../example/data/sz.json')"
   ]
  },
  {
   "cell_type": "code",
   "execution_count": 3,
   "metadata": {},
   "outputs": [
    {
     "data": {
      "text/plain": [
       "(       LONCOL  LATCOL       HBLON      HBLAT  \\\n",
       " 67          0      67  113.746280  22.700560   \n",
       " 68          0      68  113.746280  22.705056   \n",
       " 69          0      69  113.746280  22.709553   \n",
       " 70          0      70  113.746280  22.714049   \n",
       " 71          0      71  113.746280  22.718546   \n",
       " ...       ...     ...         ...        ...   \n",
       " 18744     180      24  114.623195  22.507206   \n",
       " 18745     180      25  114.623195  22.511702   \n",
       " 18746     180      26  114.623195  22.516199   \n",
       " 18747     180      27  114.623195  22.520695   \n",
       " 18748     180      28  114.623195  22.525192   \n",
       " \n",
       "                                                 geometry  \n",
       " 67     POLYGON ((113.74384 22.69831, 113.74872 22.698...  \n",
       " 68     POLYGON ((113.74384 22.70281, 113.74872 22.702...  \n",
       " 69     POLYGON ((113.74384 22.70730, 113.74872 22.707...  \n",
       " 70     POLYGON ((113.74384 22.71180, 113.74872 22.711...  \n",
       " 71     POLYGON ((113.74384 22.71630, 113.74872 22.716...  \n",
       " ...                                                  ...  \n",
       " 18744  POLYGON ((114.62076 22.50496, 114.62563 22.504...  \n",
       " 18745  POLYGON ((114.62076 22.50945, 114.62563 22.509...  \n",
       " 18746  POLYGON ((114.62076 22.51395, 114.62563 22.513...  \n",
       " 18747  POLYGON ((114.62076 22.51845, 114.62563 22.518...  \n",
       " 18748  POLYGON ((114.62076 22.52294, 114.62563 22.522...  \n",
       " \n",
       " [9044 rows x 5 columns],\n",
       " (113.74627986426263,\n",
       "  22.39928709355355,\n",
       "  0.0048717524501333395,\n",
       "  0.004496605206422906))"
      ]
     },
     "execution_count": 3,
     "metadata": {},
     "output_type": "execute_result"
    }
   ],
   "source": [
    "tbd.rect_grids(sz)"
   ]
  },
  {
   "cell_type": "code",
   "execution_count": 4,
   "metadata": {},
   "outputs": [
    {
     "data": {
      "text/plain": [
       "(       LONCOL  LATCOL       HBLON      HBLAT  \\\n",
       " 67         30      67  113.745910  22.701273   \n",
       " 68         30      68  113.745910  22.705769   \n",
       " 69         30      69  113.745910  22.710266   \n",
       " 70         30      70  113.745910  22.714762   \n",
       " 71         30      71  113.745910  22.719259   \n",
       " ...       ...     ...         ...        ...   \n",
       " 18747     210      27  114.621371  22.521408   \n",
       " 18748     210      28  114.621371  22.525905   \n",
       " 18749     210      29  114.621371  22.530402   \n",
       " 18849     211      25  114.626234  22.512415   \n",
       " 18850     211      26  114.626234  22.516912   \n",
       " \n",
       "                                                 geometry  \n",
       " 67     POLYGON ((113.74348 22.69902, 113.74834 22.699...  \n",
       " 68     POLYGON ((113.74348 22.70352, 113.74834 22.703...  \n",
       " 69     POLYGON ((113.74348 22.70802, 113.74834 22.708...  \n",
       " 70     POLYGON ((113.74348 22.71251, 113.74834 22.712...  \n",
       " 71     POLYGON ((113.74348 22.71701, 113.74834 22.717...  \n",
       " ...                                                  ...  \n",
       " 18747  POLYGON ((114.61894 22.51916, 114.62380 22.519...  \n",
       " 18748  POLYGON ((114.61894 22.52366, 114.62380 22.523...  \n",
       " 18749  POLYGON ((114.61894 22.52815, 114.62380 22.528...  \n",
       " 18849  POLYGON ((114.62380 22.51017, 114.62867 22.510...  \n",
       " 18850  POLYGON ((114.62380 22.51466, 114.62867 22.514...  \n",
       " \n",
       " [9067 rows x 5 columns],\n",
       " (113.6, 22.4, 0.004863669213934598, 0.004496605206422906))"
      ]
     },
     "execution_count": 4,
     "metadata": {},
     "output_type": "execute_result"
    }
   ],
   "source": [
    "tbd.rect_grids(sz,params=(113.6, 22.4, 0.004863669213934598, 0.004496605206422906))"
   ]
  },
  {
   "cell_type": "code",
   "execution_count": 7,
   "metadata": {},
   "outputs": [
    {
     "data": {
      "text/plain": [
       "[(113.60243183460696, 22.402248302603212),\n",
       " (113.6072955038209, 22.402248302603212),\n",
       " (113.6072955038209, 22.406744907809635),\n",
       " (113.60243183460696, 22.406744907809635),\n",
       " (113.60243183460696, 22.402248302603212)]"
      ]
     },
     "execution_count": 7,
     "metadata": {},
     "output_type": "execute_result"
    }
   ],
   "source": [
    "bounds = [113.6, 22.4, 113.605, 22.405]\n",
    "params = (113.6, 22.4, 0.004863669213934598, 0.004496605206422906)\n",
    "\n",
    "list(tbd.rect_grids(bounds,params=params)[0]['geometry'].iloc[3].exterior.coords)"
   ]
  },
  {
   "cell_type": "code",
   "execution_count": 6,
   "metadata": {},
   "outputs": [
    {
     "data": {
      "text/plain": [
       "(   LONCOL  LATCOL       HBLON      HBLAT  \\\n",
       " 0       0       0  113.600000  22.400000   \n",
       " 1       0       1  113.600000  22.404497   \n",
       " 2       1       0  113.604864  22.400000   \n",
       " 3       1       1  113.604864  22.404497   \n",
       " \n",
       "                                             geometry  \n",
       " 0  POLYGON ((113.59757 22.39775, 113.60243 22.397...  \n",
       " 1  POLYGON ((113.59757 22.40225, 113.60243 22.402...  \n",
       " 2  POLYGON ((113.60243 22.39775, 113.60730 22.397...  \n",
       " 3  POLYGON ((113.60243 22.40225, 113.60730 22.402...  ,\n",
       " (113.6, 22.4, 0.004863669213934598, 0.004496605206422906))"
      ]
     },
     "execution_count": 6,
     "metadata": {},
     "output_type": "execute_result"
    }
   ],
   "source": [
    "tbd.rect_grids(bounds,params=params)"
   ]
  }
 ],
 "metadata": {
  "interpreter": {
   "hash": "40d3a090f54c6569ab1632332b64b2c03c39dcf918b08424e98f38b5ae0af88f"
  },
  "kernelspec": {
   "display_name": "Python 3.8.8 ('base')",
   "language": "python",
   "name": "python3"
  },
  "language_info": {
   "codemirror_mode": {
    "name": "ipython",
    "version": 3
   },
   "file_extension": ".py",
   "mimetype": "text/x-python",
   "name": "python",
   "nbconvert_exporter": "python",
   "pygments_lexer": "ipython3",
   "version": "3.8.8"
  },
  "orig_nbformat": 4
 },
 "nbformat": 4,
 "nbformat_minor": 2
}
