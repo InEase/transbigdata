{
 "cells": [
  {
   "cell_type": "code",
   "execution_count": 1,
   "metadata": {},
   "outputs": [],
   "source": [
    "import pandas as pd\n",
    "import numpy as np\n",
    "import geopandas as gpd\n",
    "import transbigdata as tbd"
   ]
  },
  {
   "cell_type": "code",
   "execution_count": 2,
   "metadata": {},
   "outputs": [
    {
     "data": {
      "text/plain": [
       "True"
      ]
     },
     "execution_count": 2,
     "metadata": {},
     "output_type": "execute_result"
    }
   ],
   "source": [
    "isinstance(pd.DataFrame([1,2,3]),pd.DataFrame)"
   ]
  },
  {
   "cell_type": "code",
   "execution_count": 3,
   "metadata": {},
   "outputs": [
    {
     "data": {
      "text/plain": [
       "0.5283208335737187"
      ]
     },
     "execution_count": 3,
     "metadata": {},
     "output_type": "execute_result"
    }
   ],
   "source": [
    "tbd.cal_entropy_rate([1,2,3,1,2,1])"
   ]
  },
  {
   "cell_type": "code",
   "execution_count": 110,
   "metadata": {},
   "outputs": [],
   "source": [
    "def cal_entropy(sequence):\n",
    "    '''\n",
    "    Calculate entropy.\n",
    "\n",
    "    Parameters\n",
    "    ----------------\n",
    "    sequence : List,DataFrame,Series\n",
    "        sequence data\n",
    "\n",
    "    Returns\n",
    "    ----------------\n",
    "    entropy : Number\n",
    "    '''\n",
    "    sequence = pd.DataFrame(sequence)\n",
    "    r_1 = sequence[0].value_counts().reset_index()\n",
    "    r_1[0] /= r_1[0].sum()\n",
    "    entropy = -(r_1[0]*np.log(r_1[0])/np.log(2)).sum()\n",
    "    return entropy\n",
    "\n",
    "def cal_entropy_rate(sequence):\n",
    "    '''\n",
    "    Calculate entropy rate.\n",
    "    Reference: Goulet-Langlois, G., Koutsopoulos, H. N., Zhao, Z., & Zhao, J. (2017). Measuring regularity of individual travel patterns. IEEE Transactions on Intelligent Transportation Systems, 19(5), 1583-1592.\n",
    "    \n",
    "    Parameters\n",
    "    ----------------\n",
    "    sequence : List,DataFrame,Series\n",
    "        sequence data\n",
    "\n",
    "    Returns\n",
    "    ----------------\n",
    "    entropy_rate : Number\n",
    "    '''\n",
    "    sequence = pd.DataFrame(sequence,columns = ['key'])\n",
    "    #对item编号排序\n",
    "    sequence = sequence.reindex().reset_index()\n",
    "    sequence_item = sequence['key'].drop_duplicates().reset_index().rename(columns = {'index':'Id'})\n",
    "    sequence = pd.merge(sequence,sequence_item).sort_values('index')\n",
    "    #序列\n",
    "    sequence = list(sequence['Id'].astype(str))\n",
    "    #BWT\n",
    "    sequences = []\n",
    "    for i in range(len(sequence)):\n",
    "        sequence_new_1 = sequence[0:i]\n",
    "        sequence_new_2 = sequence[i:]\n",
    "        sequence_new = ','.join(sequence_new_2+sequence_new_1)\n",
    "        sequences.append(sequence_new)\n",
    "    sequences = sorted(sequences)\n",
    "    sorted_rotations = [i.split(',')[-1] for i in sequences]\n",
    "\n",
    "    #对序列分割为多个n**0.5长度的段\n",
    "    sorted_rotations = pd.DataFrame(sorted_rotations)\n",
    "    n = len(sorted_rotations)\n",
    "    sorted_rotations['group'] = range(n)\n",
    "    sorted_rotations['group'] /= n**0.5\n",
    "    sorted_rotations['group'] = sorted_rotations['group'].astype(int)\n",
    "    entropy_rate = sorted_rotations.groupby(['group']).apply(lambda r:cal_entropy(r[0])).mean()\n",
    "    return entropy_rate"
   ]
  },
  {
   "cell_type": "code",
   "execution_count": null,
   "metadata": {},
   "outputs": [],
   "source": []
  }
 ],
 "metadata": {
  "kernelspec": {
   "display_name": "Python 3.8.8",
   "language": "python",
   "name": "python3"
  },
  "language_info": {
   "codemirror_mode": {
    "name": "ipython",
    "version": 3
   },
   "file_extension": ".py",
   "mimetype": "text/x-python",
   "name": "python",
   "nbconvert_exporter": "python",
   "pygments_lexer": "ipython3",
   "version": "3.8.8"
  },
  "orig_nbformat": 4,
  "vscode": {
   "interpreter": {
    "hash": "40d3a090f54c6569ab1632332b64b2c03c39dcf918b08424e98f38b5ae0af88f"
   }
  }
 },
 "nbformat": 4,
 "nbformat_minor": 2
}
